{
  "nbformat": 4,
  "nbformat_minor": 0,
  "metadata": {
    "colab": {
      "name": "mohr_circle_2020ME10965.ipynb",
      "provenance": [],
      "collapsed_sections": [],
      "authorship_tag": "ABX9TyPqSW6BkIbx5IgV2RNRgaGJ",
      "include_colab_link": true
    },
    "kernelspec": {
      "name": "python3",
      "display_name": "Python 3"
    },
    "language_info": {
      "name": "python"
    }
  },
  "cells": [
    {
      "cell_type": "markdown",
      "metadata": {
        "id": "view-in-github",
        "colab_type": "text"
      },
      "source": [
        "<a href=\"https://colab.research.google.com/github/rinish0109/APL405/blob/main/mohr_circle_2020ME10965.ipynb\" target=\"_parent\"><img src=\"https://colab.research.google.com/assets/colab-badge.svg\" alt=\"Open In Colab\"/></a>"
      ]
    },
    {
      "cell_type": "code",
      "execution_count": 16,
      "metadata": {
        "id": "lmoejiELhmW5"
      },
      "outputs": [],
      "source": [
        "\n",
        "\"\"\"\n",
        "Mohr circle in 3D.\n",
        "\"\"\"\n",
        "import numpy as np\n",
        "import matplotlib.pyplot as plt\n",
        "from numpy.linalg import eigvalsh\n",
        "from matplotlib import rcParams\n",
        " \n",
        "rcParams['font.family'] = 'serif'\n",
        "rcParams['font.size'] = 16\n",
        "\n",
        "class mohr():\n",
        "  def plot_mohr3d(self, S):\n",
        "    \"\"\"Plot 3D Mohr circles.\"\"\"\n",
        "    ''' This method \"plot_mohr3d()\" definition should evaluate the principal stress components from any arbitrary stress tensor(S).\n",
        "        Then, calculate major, minor and intermediate radius of Mohr's circle.'''\n",
        "    \n",
        "    #-------Your Code--------\n",
        "    v=[]\n",
        "    v,_=np.linalg.eig(S)\n",
        "    \n",
        "    e1=v[0]\n",
        "    e2=v[1]\n",
        "    e3=v[2] \n",
        "    \n",
        "    # Write func to calculate Eigen values of the stress tensor in increasing order of magnitude i.e. Principal Stresses in this line.\n",
        "    R_maj = (e2-e3)/2               #Major radius\n",
        "    cent_maj = ((e2+e3)/2, 0)           #Centre of the major circle\n",
        "    \n",
        "    R_min = (e1-e3)/2              #Minor Radius\n",
        "    cent_min = ((e3+e1)/2, 0)      #Centre of the minor circle\n",
        "    \n",
        "    R_mid = (e1-e2)/2                #Intermediate (Radius of circle which includes both major and minor circle)\n",
        "    cent_mid = ((e1+e2)/2, 0)\n",
        "\n",
        "    # R_maj =                #Major radius\n",
        "    # cent_maj =             #Centre of the major circle\n",
        "    \n",
        "    #R_min =                 #Minor Radius\n",
        "    #cent_min =              #Centre of the minor circle\n",
        "    \n",
        "    #R_mid =                 #Intermediate (Radius of circle which includes both major and minor circle)\n",
        "    #cent_mid = \n",
        "    \n",
        "    # Plot your FIGURE of Mohr circle\n",
        "    c1=plt.Circle(cent_maj, radius=R_maj, color='blue', alpha=0.3)\n",
        "    c2=plt.Circle(cent_min, radius=R_min, color='green', alpha=0.3)\n",
        "    c3=plt.Circle(cent_mid, radius=R_mid, color='red', alpha=0.3)\n",
        "    \n",
        "    plt.gca().add_artist(c1)\n",
        "    plt.gca().add_artist(c2)\n",
        "    plt.gca().add_artist(c3)\n",
        "\n",
        "    plt.grid()\n",
        "\n",
        "    plt.xlim([-300,300])\n",
        "    plt.ylim([-300,300])\n",
        "    plt.show()\n",
        "    \n",
        "\n",
        "    return R_maj, R_min, R_mid\n",
        "   \n",
        "\n",
        "\n"
      ]
    },
    {
      "cell_type": "code",
      "source": [
        "A=[[90,0,95],[0,96,0],[95,0,-50]]\n",
        "plot1=mohr()\n",
        "plot1.plot_mohr3d(A)\n"
      ],
      "metadata": {
        "colab": {
          "base_uri": "https://localhost:8080/",
          "height": 296
        },
        "id": "-ODhlDjZiMSc",
        "outputId": "1d0c0137-5f74-4885-b12f-1b38f8186bea"
      },
      "execution_count": 17,
      "outputs": [
        {
          "output_type": "display_data",
          "data": {
            "image/png": "[encoded data removed]",
            "text/plain": [
              "<Figure size 432x288 with 1 Axes>"
            ]
          },
          "metadata": {
            "needs_background": "light"
          }
        },
        {
          "output_type": "execute_result",
          "data": {
            "text/plain": [
              "(-97.00211860602974, 21.002118606029725, 118.00423721205946)"
            ]
          },
          "metadata": {},
          "execution_count": 17
        }
      ]
    }
  ]
}